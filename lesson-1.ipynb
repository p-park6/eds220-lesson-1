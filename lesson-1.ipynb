{
 "cells": [
  {
   "cell_type": "markdown",
   "id": "5138a29a-f341-4e52-b7c0-dd12dc5945eb",
   "metadata": {},
   "source": [
    "# numpy\n",
    "\n",
    "- one of the core packages\n",
    "- many packages are built on top of numpy\n",
    "- ```numpy``` has been optimized for processing"
   ]
  },
  {
   "cell_type": "code",
   "execution_count": 1,
   "id": "22d91db6-f975-4628-a2f9-ceec937ebb80",
   "metadata": {
    "tags": []
   },
   "outputs": [],
   "source": [
    "#import Numpy with standard abbreviation\n",
    "import numpy as np"
   ]
  },
  {
   "cell_type": "markdown",
   "id": "185ca5ce-5ef0-4800-8d09-9018bf50c517",
   "metadata": {},
   "source": [
    "# Variables\n",
    "- can think variables as a name we assign to particular object in python"
   ]
  },
  {
   "cell_type": "code",
   "execution_count": 2,
   "id": "d235ff63-18fd-4131-839a-d17a5536982e",
   "metadata": {
    "tags": []
   },
   "outputs": [],
   "source": [
    "# assign a small array to variable 'a'\n",
    "a = np.array( [ [1,1,2], [3,5,8] ] )"
   ]
  },
  {
   "cell_type": "markdown",
   "id": "128d74eb-c14a-401e-99e5-9425daff8722",
   "metadata": {},
   "source": [
    "when cell is run, variable is stored and its values. \n",
    "Can see value in two ways:"
   ]
  },
  {
   "cell_type": "code",
   "execution_count": 3,
   "id": "e3d40bfd-dff1-46e7-bcb3-272d132ea89c",
   "metadata": {
    "tags": []
   },
   "outputs": [
    {
     "data": {
      "text/plain": [
       "array([[1, 1, 2],\n",
       "       [3, 5, 8]])"
      ]
     },
     "execution_count": 3,
     "metadata": {},
     "output_type": "execute_result"
    }
   ],
   "source": [
    "a\n",
    "#output what a is"
   ]
  },
  {
   "cell_type": "code",
   "execution_count": 4,
   "id": "4eb67573-3495-48ee-a777-6067bb614d8a",
   "metadata": {
    "tags": []
   },
   "outputs": [
    {
     "name": "stdout",
     "output_type": "stream",
     "text": [
      "[[1 1 2]\n",
      " [3 5 8]]\n"
     ]
    }
   ],
   "source": [
    "print(a)\n",
    "#output what a is"
   ]
  },
  {
   "cell_type": "markdown",
   "id": "2dcd9141-8298-4bc2-a068-64ff91302e3b",
   "metadata": {},
   "source": [
    "## Naming variables\n",
    "- we will use 'snake_case' for naming variables (in this class)\n",
    "- preferred way to name variables in python\n",
    "\n",
    "# Variables and objects\n",
    "**object**: often encountered in documentations or tutorials.\n",
    "\n",
    "object is bundle of properties and actions about something specific\n",
    "ex.:\n",
    "- object: data frame\n",
    "- properties: number of rows, names of columns, data created\n",
    "- actions: selecting a row, adding a column\n",
    "\n",
    "Variable is name we give a specific object, same object can be referenced by different variables.\n",
    "\n",
    "ex:\n",
    "- The Sun (actual star at the center of solar system) = object\n",
    "- sol = Spanish word for Sun = variable\n",
    "- soleil = French for Sun = abother variable\n",
    "\n",
    "object and variable used interchangeably"
   ]
  },
  {
   "cell_type": "markdown",
   "id": "399b8b7e-31c5-411c-84b7-b7c54321283b",
   "metadata": {},
   "source": [
    "# Types\n",
    "each object in python has a type\n",
    "\n",
    "type = what kind of object it is\n",
    "\n",
    "can also call it **class**\n",
    "\n",
    "how we see the type/class of an object:"
   ]
  },
  {
   "cell_type": "code",
   "execution_count": 5,
   "id": "a05737dc-3ce5-40e7-a7c2-adb912afa3b0",
   "metadata": {
    "tags": []
   },
   "outputs": [
    {
     "name": "stdout",
     "output_type": "stream",
     "text": [
      "[[1 1 2]\n",
      " [3 5 8]]\n"
     ]
    },
    {
     "data": {
      "text/plain": [
       "numpy.ndarray"
      ]
     },
     "execution_count": 5,
     "metadata": {},
     "output_type": "execute_result"
    }
   ],
   "source": [
    "print(a)\n",
    "type(a)"
   ]
  },
  {
   "cell_type": "markdown",
   "id": "6f0aa4a7-5107-4e85-86e6-d8bafaf277f3",
   "metadata": {},
   "source": [
    "numpy.ndarray is core object/data type in the NumPy package\n",
    "able to check the type of an entry in arry by indexing\n",
    "this means if we are interested about the type in just one thing in our array, we can find out by:"
   ]
  },
  {
   "cell_type": "code",
   "execution_count": 6,
   "id": "8bae2499-8ce1-48e0-8e4d-b2b3e8338b0e",
   "metadata": {
    "tags": []
   },
   "outputs": [
    {
     "name": "stdout",
     "output_type": "stream",
     "text": [
      "1\n"
     ]
    },
    {
     "data": {
      "text/plain": [
       "numpy.int64"
      ]
     },
     "execution_count": 6,
     "metadata": {},
     "output_type": "execute_result"
    }
   ],
   "source": [
    "print(a[0,0])\n",
    "#printing the first row and the first column of the array in a\n",
    "type(a[0,0])"
   ]
  },
  {
   "cell_type": "markdown",
   "id": "6525dd64-fe65-4c8c-8513-a94681954897",
   "metadata": {},
   "source": [
    "- numpy.int64\n",
    "- int=integer\n",
    "- 64= how much bit of space it is taking up"
   ]
  },
  {
   "cell_type": "code",
   "execution_count": 9,
   "id": "ae0553e7-f006-48a8-b3a9-16c0a6028f09",
   "metadata": {
    "tags": []
   },
   "outputs": [
    {
     "name": "stdout",
     "output_type": "stream",
     "text": [
      "5\n"
     ]
    }
   ],
   "source": [
    "#how to acess the value 5 in the array a?\n",
    "print(a[1,1])"
   ]
  },
  {
   "cell_type": "markdown",
   "id": "83bffd78-227d-40b7-96e1-9fb48c76db58",
   "metadata": {},
   "source": [
    "# Functions\n",
    "\n",
    "`print` was our example of a python function\n",
    "\n",
    "A function:\n",
    "- take in a set of **arguments**, separated by commas, and\n",
    "- use those arguments to produce some **output**\n",
    "\n",
    "argument = parameter ; argument is more commonly used\n",
    "\n",
    "can ask for information about a function by executing ? followed by the function name:"
   ]
  },
  {
   "cell_type": "code",
   "execution_count": 10,
   "id": "a1142afe-f1da-4910-a2e4-7d86f6f0ade3",
   "metadata": {
    "tags": []
   },
   "outputs": [
    {
     "data": {
      "text/plain": [
       "\u001b[0;31mDocstring:\u001b[0m\n",
       "print(value, ..., sep=' ', end='\\n', file=sys.stdout, flush=False)\n",
       "\n",
       "Prints the values to a stream, or to sys.stdout by default.\n",
       "Optional keyword arguments:\n",
       "file:  a file-like object (stream); defaults to the current sys.stdout.\n",
       "sep:   string inserted between values, default a space.\n",
       "end:   string appended after the last value, default a newline.\n",
       "flush: whether to forcibly flush the stream.\n",
       "\u001b[0;31mType:\u001b[0m      builtin_function_or_method\n"
      ]
     },
     "metadata": {},
     "output_type": "display_data"
    }
   ],
   "source": [
    "?print"
   ]
  },
  {
   "cell_type": "markdown",
   "id": "3b5f8da0-6f25-46c4-8700-0f175eb9637a",
   "metadata": {},
   "source": [
    "- first line: function showing all of its arguments in parenthesis\n",
    "- then a short description of what the function does\n",
    "- finally, a list of the arguments and a brief explanation of each of them.\n",
    "\n",
    "Different types of arguments inside the paraenthesis. Roughly speaking, there are two types of srguments:\n",
    "\n",
    "- **non-optional arguments**: arguments you need to specify for the function to do something\n",
    "- **optional argument**: arguments that are pre-filled with a default value by the function, but you can override them. Optional arguments appear inside the parenthesis () in the form `optional_argument = default_value`"
   ]
  },
  {
   "cell_type": "code",
   "execution_count": 3,
   "id": "770907ef-25f4-4b64-bc8e-7f9fb9ca82ef",
   "metadata": {},
   "outputs": [],
   "source": [
    "#example:\n",
    "#print('changing the default end argument of the print function', ends=':)')\n"
   ]
  },
  {
   "cell_type": "markdown",
   "id": "c425f4a9-b516-4d7d-b512-02a53f79bdf7",
   "metadata": {},
   "source": [
    "# Attributes & Methods\n",
    "\n",
    "An object in Python has attributes and methods. \n",
    "\n",
    "-**attribute**: a property of an object, a piece of information about it.\n",
    "-**method**: a procedure associtated with an object, an action where the main ingradient is the object itself.\n",
    "'\n",
    "Access a variable's attributes and methods by adding a period '.' at the end of the variable's name\n",
    "\n",
    "'variable.variable_method()' or\n",
    "'variable.vairable_attribute'\n",
    "\n",
    "Example:\n",
    "methods and attributes of NumPy arrays:"
   ]
  },
  {
   "cell_type": "code",
   "execution_count": 4,
   "id": "b5377597-5221-42bc-b791-6f93aac44faf",
   "metadata": {
    "tags": []
   },
   "outputs": [],
   "source": [
    "import numpy as np"
   ]
  },
  {
   "cell_type": "code",
   "execution_count": 5,
   "id": "4f3af8fd-09c5-4f82-adf0-6a19c9943b76",
   "metadata": {
    "tags": []
   },
   "outputs": [
    {
     "data": {
      "text/plain": [
       "array([[1, 2, 3],\n",
       "       [4, 5, 6],\n",
       "       [7, 8, 9]])"
      ]
     },
     "execution_count": 5,
     "metadata": {},
     "output_type": "execute_result"
    }
   ],
   "source": [
    "#define a 3x3 array\n",
    "var = np.array( [ [1,2,3] , [4,5,6] , [7,8,9] ] )\n",
    "var"
   ]
  },
  {
   "cell_type": "code",
   "execution_count": 6,
   "id": "be094605-3bde-47b5-8436-8aa115294ae3",
   "metadata": {
    "tags": []
   },
   "outputs": [
    {
     "data": {
      "text/plain": [
       "(3, 3)"
      ]
     },
     "execution_count": 6,
     "metadata": {},
     "output_type": "execute_result"
    }
   ],
   "source": [
    "#shape: attribute telling us\n",
    "#the number of elements in each dimension of the array\n",
    "var.shape"
   ]
  },
  {
   "cell_type": "code",
   "execution_count": 7,
   "id": "96ff4738-b5fa-4ccb-b81c-901d9364d0f0",
   "metadata": {
    "tags": []
   },
   "outputs": [
    {
     "data": {
      "text/plain": [
       "tuple"
      ]
     },
     "execution_count": 7,
     "metadata": {},
     "output_type": "execute_result"
    }
   ],
   "source": [
    "type(var.shape)"
   ]
  },
  {
   "cell_type": "code",
   "execution_count": 8,
   "id": "2abd345d-c152-48f4-9552-3474a96d25ad",
   "metadata": {
    "tags": []
   },
   "outputs": [
    {
     "data": {
      "text/plain": [
       "2"
      ]
     },
     "execution_count": 8,
     "metadata": {},
     "output_type": "execute_result"
    }
   ],
   "source": [
    "# ndim is an attribute holding the number of array dimensions\n",
    "var.ndim"
   ]
  },
  {
   "cell_type": "code",
   "execution_count": 9,
   "id": "fb69a9d0-7cd7-42ba-97eb-2f998f2d9069",
   "metadata": {
    "tags": []
   },
   "outputs": [
    {
     "data": {
      "text/plain": [
       "int"
      ]
     },
     "execution_count": 9,
     "metadata": {},
     "output_type": "execute_result"
    }
   ],
   "source": [
    "type(var.ndim)"
   ]
  },
  {
   "cell_type": "markdown",
   "id": "b0e4ce0c-6252-4a7a-8e79-912d33da769c",
   "metadata": {},
   "source": [
    "Notice attributes can have many different data types.\n",
    "\n",
    "Examples of methods:"
   ]
  },
  {
   "cell_type": "code",
   "execution_count": 10,
   "id": "54dc37f8-b102-4d8f-b6fa-368193511253",
   "metadata": {
    "tags": []
   },
   "outputs": [
    {
     "data": {
      "text/plain": [
       "1"
      ]
     },
     "execution_count": 10,
     "metadata": {},
     "output_type": "execute_result"
    }
   ],
   "source": [
    "#min method for array\n",
    "#return the minimum value in the array\n",
    "var.min()"
   ]
  },
  {
   "cell_type": "code",
   "execution_count": 11,
   "id": "ebee73f1-3b06-4ecd-9108-e98ecf459111",
   "metadata": {
    "tags": []
   },
   "outputs": [
    {
     "data": {
      "text/plain": [
       "builtin_function_or_method"
      ]
     },
     "execution_count": 11,
     "metadata": {},
     "output_type": "execute_result"
    }
   ],
   "source": [
    "type(var.min)"
   ]
  },
  {
   "cell_type": "markdown",
   "id": "d60bd85c-4af7-4729-9efe-cc2d3108ed6a",
   "metadata": {},
   "source": [
    "# R & Python\n",
    "R:\n",
    "- doesn't use methods within an object\n",
    "- functions in R are extrinsic to (outside) the objects they are acting on\n",
    "\n",
    "Example: recreate getting the min value in an array\n",
    "\n",
    "In R there would be two separate items: the variable 'var' and a *separate* function 'min' that gets 'var' as a parameter:\n",
    "\n",
    "\n",
    "```\n",
    "#this is R code\n",
    "var <- array(c(1,4,7,2,5,8,3,6,9), dim = c(3,3)\n",
    "min(var)\n",
    "```\n",
    "\n",
    "Using the pipe operator >%> in R's tidyverse is closer to the '.' in Python:\n",
    "\n",
    "```\n",
    "var <- array(c(1,4,7,2,5,8,3,6,9), dim = c(3,3)\n",
    "var >%> min()\n",
    "```\n",
    "\n",
    "What is happening?\n",
    "the pipe '>%>' is passing 'var to the 'min()' as if first argument. This is essentially what  the '.' in Python:\n",
    "```\n",
    "var = np.array( [ [1,2,3] , [4,5,6,] , [7,8,9,] ] )\n",
    "var.min()"
   ]
  },
  {
   "cell_type": "code",
   "execution_count": null,
   "id": "2797fdc9-2c0d-45e7-90ac-53c1bd0561de",
   "metadata": {},
   "outputs": [],
   "source": []
  }
 ],
 "metadata": {
  "kernelspec": {
   "display_name": "Anaconda 3 (Base)",
   "language": "python",
   "name": "base"
  },
  "language_info": {
   "codemirror_mode": {
    "name": "ipython",
    "version": 3
   },
   "file_extension": ".py",
   "mimetype": "text/x-python",
   "name": "python",
   "nbconvert_exporter": "python",
   "pygments_lexer": "ipython3",
   "version": "3.9.13"
  }
 },
 "nbformat": 4,
 "nbformat_minor": 5
}
