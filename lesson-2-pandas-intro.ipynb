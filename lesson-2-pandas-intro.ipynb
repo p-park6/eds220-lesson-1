{
 "cells": [
  {
   "cell_type": "markdown",
   "id": "b0a3d68a-bf4f-42f8-93ad-6da49551db15",
   "metadata": {},
   "source": [
    "# Objective\n",
    "Review core 'pandas' objects: 'pandas.Series' and 'pandas.DataFrame'\n",
    "\n",
    "# 'pandas'\n",
    "- Python package to wrangle and analyze tabular data\n",
    "- built on top of NumPy\n",
    "- core tool for data analysis in Python"
   ]
  },
  {
   "cell_type": "code",
   "execution_count": 4,
   "id": "40d86be1-5c85-48e4-857e-2cb30173c825",
   "metadata": {
    "tags": []
   },
   "outputs": [],
   "source": [
    "#import pandas with standard abbreviation\n",
    "import pandas as pd\n",
    "\n",
    "#import numpy too!\n",
    "import numpy as np"
   ]
  },
  {
   "cell_type": "markdown",
   "id": "2592832f-2d9f-437f-8b69-40d769c02202",
   "metadata": {},
   "source": [
    "# Series\n",
    "\n",
    "A 'pandas.Series':\n",
    "\n",
    "- is one of the core data structures in 'pandas'\n",
    "- a 1-dimensional array of *indexed data\n",
    "- will be the columns of the 'pandas.DataFrame'\n",
    "\n",
    "# Creating a pandas Series\n",
    "\n",
    "Several ways of creating a pandas Series.\n",
    "For now, we will create series using:\n",
    "\n",
    "```\n",
    "s = pd.Series(data, index = index)\n",
    "```\n",
    "- 'data' = numpy array (or a list of objects that can be converted to Numpy types)\n",
    "- 'index' = a list of indices of same length as data"
   ]
  },
  {
   "cell_type": "code",
   "execution_count": 3,
   "id": "9965dd80-f5a9-4a10-be9d-7481dc4ea984",
   "metadata": {
    "tags": []
   },
   "outputs": [
    {
     "data": {
      "text/plain": [
       "array([0, 1, 2])"
      ]
     },
     "execution_count": 3,
     "metadata": {},
     "output_type": "execute_result"
    }
   ],
   "source": [
    "#ex: a pandas series from a numpy array\n",
    "\n",
    "#np.arrange() function cunstructs an array of consecutive integers\n",
    "np.arange(3)"
   ]
  },
  {
   "cell_type": "code",
   "execution_count": 4,
   "id": "212fbb47-d449-4326-9f7d-14fd2d29ea01",
   "metadata": {
    "tags": []
   },
   "outputs": [
    {
     "data": {
      "text/plain": [
       "a    0\n",
       "b    1\n",
       "c    2\n",
       "dtype: int64"
      ]
     },
     "execution_count": 4,
     "metadata": {},
     "output_type": "execute_result"
    }
   ],
   "source": [
    "# we can use this to create a pandas Series\n",
    "pd.Series(np.arange(3), index = ['a','b','c'])"
   ]
  },
  {
   "cell_type": "markdown",
   "id": "9d961605-061b-490e-823a-b37cdfbd057c",
   "metadata": {},
   "source": [
    "What kind of parameter is 'index'?\n",
    "\n",
    "A: an optional parameter, there is a default value to it.\n",
    "\n",
    "If we don't specify 'index', the default is to start the index from 0.\n",
    "\n",
    "Example:"
   ]
  },
  {
   "cell_type": "code",
   "execution_count": 5,
   "id": "273454a1-2243-48bb-9d6e-c20ed230da25",
   "metadata": {
    "tags": []
   },
   "outputs": [
    {
     "data": {
      "text/plain": [
       "0    EDS 220\n",
       "1    EDS 222\n",
       "2    EDS 223\n",
       "3    EDS 242\n",
       "dtype: object"
      ]
     },
     "execution_count": 5,
     "metadata": {},
     "output_type": "execute_result"
    }
   ],
   "source": [
    "#create a series from a list of strings with default index\n",
    "pd.Series(['EDS 220', 'EDS 222', 'EDS 223', 'EDS 242'])"
   ]
  },
  {
   "cell_type": "markdown",
   "id": "c191c83d-5d91-489c-b392-9e15ac2f6a4e",
   "metadata": {},
   "source": [
    "# Operations of series\n",
    "\n",
    "Arithemtic operations work on series on also must NumPy functions.\n",
    "\n",
    "Example:"
   ]
  },
  {
   "cell_type": "code",
   "execution_count": 8,
   "id": "3f6f45e3-6dc1-4770-b7f4-a47d93cee818",
   "metadata": {
    "tags": []
   },
   "outputs": [
    {
     "name": "stdout",
     "output_type": "stream",
     "text": [
      "Andrea      98\n",
      "Beth        73\n",
      "Carolina    65\n",
      "dtype: int64 \n",
      "\n",
      "Andrea      9.8\n",
      "Beth        7.3\n",
      "Carolina    6.5\n",
      "dtype: float64\n"
     ]
    }
   ],
   "source": [
    "#define a series\n",
    "s = pd.Series( [98, 73, 65], index = ['Andrea', 'Beth', 'Carolina'])\n",
    "print(s, '\\n')\n",
    "\n",
    "#divide each element in the series by 10:\n",
    "print(s/10)"
   ]
  },
  {
   "cell_type": "markdown",
   "id": "7602dc5f-8825-4bd6-9dea-d7130d524cf6",
   "metadata": {},
   "source": [
    "Example: create a new Series with True/False values indicating whether the elements in the series staify a condition or not."
   ]
  },
  {
   "cell_type": "code",
   "execution_count": 9,
   "id": "05864088-f0d2-40e8-8d61-5d1f26dc7676",
   "metadata": {
    "tags": []
   },
   "outputs": [
    {
     "data": {
      "text/plain": [
       "Andrea       True\n",
       "Beth         True\n",
       "Carolina    False\n",
       "dtype: bool"
      ]
     },
     "execution_count": 9,
     "metadata": {},
     "output_type": "execute_result"
    }
   ],
   "source": [
    "s > 70"
   ]
  },
  {
   "cell_type": "markdown",
   "id": "abc17870-c1d7-4fef-8fe7-f0bdaf020aac",
   "metadata": {},
   "source": [
    "This is simple -- but important!! Using conditions on Series is key to select data from dataframes."
   ]
  },
  {
   "cell_type": "markdown",
   "id": "aecd365f-f587-4195-bcd6-79daba800c42",
   "metadata": {},
   "source": [
    "## Attributes & Methods\n",
    "\n",
    "Two examples about identifying missing vcalues.\n",
    "\n",
    "- missing values in 'pandas' are represented by 'np.NaN' = not a number\n",
    "- NaN is a type of float in numpy"
   ]
  },
  {
   "cell_type": "code",
   "execution_count": 10,
   "id": "919a9d43-35cf-4df8-8887-abc2bdb44996",
   "metadata": {
    "tags": []
   },
   "outputs": [
    {
     "data": {
      "text/plain": [
       "nan"
      ]
     },
     "execution_count": 10,
     "metadata": {},
     "output_type": "execute_result"
    }
   ],
   "source": [
    "np.NaN"
   ]
  },
  {
   "cell_type": "code",
   "execution_count": 11,
   "id": "02a44a1d-bddc-49dd-8708-8ecd595188e0",
   "metadata": {
    "tags": []
   },
   "outputs": [
    {
     "data": {
      "text/plain": [
       "float"
      ]
     },
     "execution_count": 11,
     "metadata": {},
     "output_type": "execute_result"
    }
   ],
   "source": [
    "type(np.NaN)"
   ]
  },
  {
   "cell_type": "code",
   "execution_count": 12,
   "id": "9c8f2510-5486-442b-9796-5136ca2d81e1",
   "metadata": {
    "tags": []
   },
   "outputs": [],
   "source": [
    "# series with NAs in it:\n",
    "s = pd.Series([1, 2, np.NaN, 4, np.NaN])"
   ]
  },
  {
   "cell_type": "markdown",
   "id": "2d055981-a36b-4798-b44f-fe420f5e4399",
   "metadata": {},
   "source": [
    "`hasnan` = attributes of pandas series, returns `True` is there are any NAs"
   ]
  },
  {
   "cell_type": "code",
   "execution_count": 13,
   "id": "e3564f66-f620-45eb-a99f-bc356e084c57",
   "metadata": {
    "tags": []
   },
   "outputs": [
    {
     "data": {
      "text/plain": [
       "False"
      ]
     },
     "execution_count": 13,
     "metadata": {},
     "output_type": "execute_result"
    }
   ],
   "source": [
    "#check is series has NAs\n",
    "s.hasnans"
   ]
  },
  {
   "cell_type": "markdown",
   "id": "dd750e16-4738-457b-a4c8-99cb12bebd87",
   "metadata": {},
   "source": [
    "`isna()` - a 'method' of series, returns a series indicating which elements are NAs:"
   ]
  },
  {
   "cell_type": "code",
   "execution_count": 14,
   "id": "ef2e783f-0701-4e31-8962-f292053526ef",
   "metadata": {
    "tags": []
   },
   "outputs": [
    {
     "data": {
      "text/plain": [
       "Andrea      False\n",
       "Beth        False\n",
       "Carolina    False\n",
       "dtype: bool"
      ]
     },
     "execution_count": 14,
     "metadata": {},
     "output_type": "execute_result"
    }
   ],
   "source": [
    "s.isna()"
   ]
  },
  {
   "cell_type": "markdown",
   "id": "ced60895-da50-4226-869e-254c06fd61d0",
   "metadata": {
    "tags": []
   },
   "source": [
    "`bool`: `True` or `False` are **boolean values**\n",
    "\n",
    "# Dataframes\n",
    "'pandas.DataFrame':\n",
    "\n",
    "- most used object in 'pandas'\n",
    "- represents tabular data (think of a spreadsheet)\n",
    "- each column is a `pandas.Series`\n",
    "\n",
    "# Creating a 'pandas.DataFrame'\n",
    "\n",
    "*Many ways of creating a dataframe*. Let's se one.\n",
    "\n",
    "Remember dictionares? They are sets of Key-value pairs:\n",
    "\n",
    "```\n",
    "{ key1: value1,\n",
    "  key2: value2\n",
    "}\n",
    "```\n",
    "\n",
    "Think of a `pd.DataFrame` as a dictionary where:\n",
    "- keys = column names\n",
    "- values = column values\n",
    "We can create a datafram like this:"
   ]
  },
  {
   "cell_type": "code",
   "execution_count": 5,
   "id": "d9725788-ff19-470e-9b67-42aa1b8a5d84",
   "metadata": {
    "tags": []
   },
   "outputs": [
    {
     "data": {
      "text/plain": [
       "{'col_name_1': array([0, 1, 2]), 'col_name_2': [3.1, 3.2, 3.3]}"
      ]
     },
     "execution_count": 5,
     "metadata": {},
     "output_type": "execute_result"
    }
   ],
   "source": [
    "#initialize dictionary with columns data\n",
    "d = {'col_name_1' : np.arange(3),\n",
    "     'col_name_2' : [3.1,3.2,3.3]\n",
    "    }\n",
    "d"
   ]
  },
  {
   "cell_type": "code",
   "execution_count": 6,
   "id": "d4b4cd3a-5ea8-420a-af70-2a7f2071b6fd",
   "metadata": {
    "tags": []
   },
   "outputs": [
    {
     "data": {
      "text/html": [
       "<div>\n",
       "<style scoped>\n",
       "    .dataframe tbody tr th:only-of-type {\n",
       "        vertical-align: middle;\n",
       "    }\n",
       "\n",
       "    .dataframe tbody tr th {\n",
       "        vertical-align: top;\n",
       "    }\n",
       "\n",
       "    .dataframe thead th {\n",
       "        text-align: right;\n",
       "    }\n",
       "</style>\n",
       "<table border=\"1\" class=\"dataframe\">\n",
       "  <thead>\n",
       "    <tr style=\"text-align: right;\">\n",
       "      <th></th>\n",
       "      <th>col_name_1</th>\n",
       "      <th>col_name_2</th>\n",
       "    </tr>\n",
       "  </thead>\n",
       "  <tbody>\n",
       "    <tr>\n",
       "      <th>0</th>\n",
       "      <td>0</td>\n",
       "      <td>3.1</td>\n",
       "    </tr>\n",
       "    <tr>\n",
       "      <th>1</th>\n",
       "      <td>1</td>\n",
       "      <td>3.2</td>\n",
       "    </tr>\n",
       "    <tr>\n",
       "      <th>2</th>\n",
       "      <td>2</td>\n",
       "      <td>3.3</td>\n",
       "    </tr>\n",
       "  </tbody>\n",
       "</table>\n",
       "</div>"
      ],
      "text/plain": [
       "   col_name_1  col_name_2\n",
       "0           0         3.1\n",
       "1           1         3.2\n",
       "2           2         3.3"
      ]
     },
     "execution_count": 6,
     "metadata": {},
     "output_type": "execute_result"
    }
   ],
   "source": [
    "#create data frame\n",
    "df = pd.DataFrame(d)\n",
    "df"
   ]
  },
  {
   "cell_type": "markdown",
   "id": "3a3876b8-ce16-4c17-850a-d6aaa43380d2",
   "metadata": {},
   "source": [
    "# In-place operations\n",
    "Let's rename the data frame's columns.\n",
    "We can use a datafram 'method' called `rename`, `rename` takes in as an input a dictionary:\n",
    "```\n",
    "{'col_1_old_name' : 'col_1_new_name',\n",
    " 'col_2_old_name' : 'col_2_new_name'}\n",
    "```"
   ]
  },
  {
   "cell_type": "code",
   "execution_count": 7,
   "id": "6bd9c0db-3ae5-438f-a247-cf02e3613a89",
   "metadata": {
    "tags": []
   },
   "outputs": [
    {
     "data": {
      "text/html": [
       "<div>\n",
       "<style scoped>\n",
       "    .dataframe tbody tr th:only-of-type {\n",
       "        vertical-align: middle;\n",
       "    }\n",
       "\n",
       "    .dataframe tbody tr th {\n",
       "        vertical-align: top;\n",
       "    }\n",
       "\n",
       "    .dataframe thead th {\n",
       "        text-align: right;\n",
       "    }\n",
       "</style>\n",
       "<table border=\"1\" class=\"dataframe\">\n",
       "  <thead>\n",
       "    <tr style=\"text-align: right;\">\n",
       "      <th></th>\n",
       "      <th>col1</th>\n",
       "      <th>col2</th>\n",
       "    </tr>\n",
       "  </thead>\n",
       "  <tbody>\n",
       "    <tr>\n",
       "      <th>0</th>\n",
       "      <td>0</td>\n",
       "      <td>3.1</td>\n",
       "    </tr>\n",
       "    <tr>\n",
       "      <th>1</th>\n",
       "      <td>1</td>\n",
       "      <td>3.2</td>\n",
       "    </tr>\n",
       "    <tr>\n",
       "      <th>2</th>\n",
       "      <td>2</td>\n",
       "      <td>3.3</td>\n",
       "    </tr>\n",
       "  </tbody>\n",
       "</table>\n",
       "</div>"
      ],
      "text/plain": [
       "   col1  col2\n",
       "0     0   3.1\n",
       "1     1   3.2\n",
       "2     2   3.3"
      ]
     },
     "execution_count": 7,
     "metadata": {},
     "output_type": "execute_result"
    }
   ],
   "source": [
    "# define new column names \n",
    "col_names = {'col_name_1': 'col1',\n",
    "             'col_name_2': 'col2'\n",
    "            }\n",
    "\n",
    "#rename using rename\n",
    "df.rename(columns = col_names)\n"
   ]
  },
  {
   "cell_type": "code",
   "execution_count": 8,
   "id": "2d081054-66eb-4a6c-8f7d-dbf9e67a31db",
   "metadata": {
    "tags": []
   },
   "outputs": [
    {
     "data": {
      "text/html": [
       "<div>\n",
       "<style scoped>\n",
       "    .dataframe tbody tr th:only-of-type {\n",
       "        vertical-align: middle;\n",
       "    }\n",
       "\n",
       "    .dataframe tbody tr th {\n",
       "        vertical-align: top;\n",
       "    }\n",
       "\n",
       "    .dataframe thead th {\n",
       "        text-align: right;\n",
       "    }\n",
       "</style>\n",
       "<table border=\"1\" class=\"dataframe\">\n",
       "  <thead>\n",
       "    <tr style=\"text-align: right;\">\n",
       "      <th></th>\n",
       "      <th>col_name_1</th>\n",
       "      <th>col_name_2</th>\n",
       "    </tr>\n",
       "  </thead>\n",
       "  <tbody>\n",
       "    <tr>\n",
       "      <th>0</th>\n",
       "      <td>0</td>\n",
       "      <td>3.1</td>\n",
       "    </tr>\n",
       "    <tr>\n",
       "      <th>1</th>\n",
       "      <td>1</td>\n",
       "      <td>3.2</td>\n",
       "    </tr>\n",
       "    <tr>\n",
       "      <th>2</th>\n",
       "      <td>2</td>\n",
       "      <td>3.3</td>\n",
       "    </tr>\n",
       "  </tbody>\n",
       "</table>\n",
       "</div>"
      ],
      "text/plain": [
       "   col_name_1  col_name_2\n",
       "0           0         3.1\n",
       "1           1         3.2\n",
       "2           2         3.3"
      ]
     },
     "execution_count": 8,
     "metadata": {},
     "output_type": "execute_result"
    }
   ],
   "source": [
    "# take a look at our dataframe\n",
    "df"
   ]
  },
  {
   "cell_type": "markdown",
   "id": "ab671bac-cf88-493e-88aa-cb03fb138a11",
   "metadata": {},
   "source": [
    "Nothing changed!\n",
    "`df.renames()` doesn't change the column names 'in place', meaning it doesn't modify the object itself. Instead, it creates a new object as an output.\n",
    "\n",
    "Assign output backto datafram to acturally change it"
   ]
  },
  {
   "cell_type": "code",
   "execution_count": 9,
   "id": "275a8078-5e3c-438e-890c-7177003ecd74",
   "metadata": {
    "tags": []
   },
   "outputs": [
    {
     "data": {
      "text/html": [
       "<div>\n",
       "<style scoped>\n",
       "    .dataframe tbody tr th:only-of-type {\n",
       "        vertical-align: middle;\n",
       "    }\n",
       "\n",
       "    .dataframe tbody tr th {\n",
       "        vertical-align: top;\n",
       "    }\n",
       "\n",
       "    .dataframe thead th {\n",
       "        text-align: right;\n",
       "    }\n",
       "</style>\n",
       "<table border=\"1\" class=\"dataframe\">\n",
       "  <thead>\n",
       "    <tr style=\"text-align: right;\">\n",
       "      <th></th>\n",
       "      <th>col1</th>\n",
       "      <th>col2</th>\n",
       "    </tr>\n",
       "  </thead>\n",
       "  <tbody>\n",
       "    <tr>\n",
       "      <th>0</th>\n",
       "      <td>0</td>\n",
       "      <td>3.1</td>\n",
       "    </tr>\n",
       "    <tr>\n",
       "      <th>1</th>\n",
       "      <td>1</td>\n",
       "      <td>3.2</td>\n",
       "    </tr>\n",
       "    <tr>\n",
       "      <th>2</th>\n",
       "      <td>2</td>\n",
       "      <td>3.3</td>\n",
       "    </tr>\n",
       "  </tbody>\n",
       "</table>\n",
       "</div>"
      ],
      "text/plain": [
       "   col1  col2\n",
       "0     0   3.1\n",
       "1     1   3.2\n",
       "2     2   3.3"
      ]
     },
     "execution_count": 9,
     "metadata": {},
     "output_type": "execute_result"
    }
   ],
   "source": [
    "df = df.rename(columns = col_names)\n",
    "df\n"
   ]
  },
  {
   "cell_type": "code",
   "execution_count": null,
   "id": "31873def-e74b-4fee-a762-a2759444b960",
   "metadata": {},
   "outputs": [],
   "source": []
  }
 ],
 "metadata": {
  "kernelspec": {
   "display_name": "Anaconda 3 (Base)",
   "language": "python",
   "name": "base"
  },
  "language_info": {
   "codemirror_mode": {
    "name": "ipython",
    "version": 3
   },
   "file_extension": ".py",
   "mimetype": "text/x-python",
   "name": "python",
   "nbconvert_exporter": "python",
   "pygments_lexer": "ipython3",
   "version": "3.9.13"
  }
 },
 "nbformat": 4,
 "nbformat_minor": 5
}
